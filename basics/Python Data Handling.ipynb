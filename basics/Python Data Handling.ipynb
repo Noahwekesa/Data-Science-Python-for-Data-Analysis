{
 "cells": [
  {
   "cell_type": "markdown",
   "id": "f89e29d9",
   "metadata": {},
   "source": [
    "# PYTHON DATA HANDLING"
   ]
  },
  {
   "cell_type": "markdown",
   "id": "9616c45f",
   "metadata": {},
   "source": [
    "## IO MODULE"
   ]
  },
  {
   "cell_type": "code",
   "execution_count": 2,
   "id": "f4f3ee85",
   "metadata": {},
   "outputs": [
    {
     "data": {
      "text/plain": [
       "'Learning python and data analyis'"
      ]
     },
     "execution_count": 2,
     "metadata": {},
     "output_type": "execute_result"
    }
   ],
   "source": [
    "#using io module program\n",
    "import io \n",
    "\n",
    "new_text = \"Learning python and data analyis \"\n",
    "\n",
    "file = io.StringIO(new_text)\n",
    "\n",
    "file.read()"
   ]
  },
  {
   "cell_type": "code",
   "execution_count": 4,
   "id": "2bde0135",
   "metadata": {},
   "outputs": [
    {
     "data": {
      "text/plain": [
       "34"
      ]
     },
     "execution_count": 4,
     "metadata": {},
     "output_type": "execute_result"
    }
   ],
   "source": [
    "file.write (\" Master the Data handling concepts\")"
   ]
  },
  {
   "cell_type": "code",
   "execution_count": 6,
   "id": "c1c99cc8",
   "metadata": {},
   "outputs": [
    {
     "data": {
      "text/plain": [
       "0"
      ]
     },
     "execution_count": 6,
     "metadata": {},
     "output_type": "execute_result"
    }
   ],
   "source": [
    "#send the cursor to the start of the file\n",
    "file.seek(0)"
   ]
  },
  {
   "cell_type": "code",
   "execution_count": 7,
   "id": "30ac8e2d",
   "metadata": {
    "scrolled": true
   },
   "outputs": [
    {
     "data": {
      "text/plain": [
       "'Learning python and data analyisMaster the Data handling concepts Master the Data handling concepts'"
      ]
     },
     "execution_count": 7,
     "metadata": {},
     "output_type": "execute_result"
    }
   ],
   "source": [
    "file.read()"
   ]
  },
  {
   "cell_type": "markdown",
   "id": "0e28ab0b",
   "metadata": {},
   "source": [
    "## The os module"
   ]
  },
  {
   "cell_type": "code",
   "execution_count": 1,
   "id": "48bf1d50",
   "metadata": {},
   "outputs": [
    {
     "data": {
      "text/plain": [
       "'C:\\\\Users\\\\Brend\\\\Desktop\\\\WORKSPACE\\\\Python data handling'"
      ]
     },
     "execution_count": 1,
     "metadata": {},
     "output_type": "execute_result"
    }
   ],
   "source": [
    "import os\n",
    "\n",
    "os.getcwd()  #used to get the current working directory"
   ]
  },
  {
   "cell_type": "code",
   "execution_count": 2,
   "id": "2fc1e87a",
   "metadata": {},
   "outputs": [
    {
     "data": {
      "text/plain": [
       "['.ipynb_checkpoints', 'os_module.ipynb', 'Python Data Handling.ipynb']"
      ]
     },
     "execution_count": 2,
     "metadata": {},
     "output_type": "execute_result"
    }
   ],
   "source": [
    "os.listdir() #used to get list of files from the current working directory file"
   ]
  },
  {
   "cell_type": "markdown",
   "id": "85b19f91",
   "metadata": {},
   "source": [
    "## The shutil module"
   ]
  },
  {
   "cell_type": "code",
   "execution_count": 3,
   "id": "3693ed14",
   "metadata": {},
   "outputs": [],
   "source": [
    "#module used to move data files to different directries and folders\n",
    "import shutil"
   ]
  },
  {
   "cell_type": "code",
   "execution_count": 4,
   "id": "d4c495a7",
   "metadata": {},
   "outputs": [
    {
     "data": {
      "text/plain": [
       "'.\\\\demo\\\\sample.txt'"
      ]
     },
     "execution_count": 4,
     "metadata": {},
     "output_type": "execute_result"
    }
   ],
   "source": [
    "shutil.move('sample.txt','.\\demo')"
   ]
  },
  {
   "cell_type": "code",
   "execution_count": 5,
   "id": "d748df4a",
   "metadata": {},
   "outputs": [
    {
     "data": {
      "text/plain": [
       "['sample.txt']"
      ]
     },
     "execution_count": 5,
     "metadata": {},
     "output_type": "execute_result"
    }
   ],
   "source": [
    "os.listdir('.\\demo')"
   ]
  },
  {
   "cell_type": "code",
   "execution_count": 7,
   "id": "94449828",
   "metadata": {},
   "outputs": [
    {
     "data": {
      "text/plain": [
       "'C:\\\\Users\\\\Brend\\\\Desktop\\\\WORKSPACE\\\\Python data handling\\\\sample.txt'"
      ]
     },
     "execution_count": 7,
     "metadata": {},
     "output_type": "execute_result"
    }
   ],
   "source": [
    "#moved the document back to data handling folder\n",
    "shutil.move('.\\demo\\sample.txt', os.getcwd())"
   ]
  },
  {
   "cell_type": "code",
   "execution_count": 8,
   "id": "0be1e6df",
   "metadata": {},
   "outputs": [
    {
     "data": {
      "text/plain": [
       "['.ipynb_checkpoints', 'demo', 'Python Data Handling.ipynb', 'sample.txt']"
      ]
     },
     "execution_count": 8,
     "metadata": {},
     "output_type": "execute_result"
    }
   ],
   "source": [
    "os.listdir()"
   ]
  },
  {
   "cell_type": "markdown",
   "id": "a66a4f35",
   "metadata": {},
   "source": [
    "## The send2trash module "
   ]
  },
  {
   "cell_type": "code",
   "execution_count": 9,
   "id": "88a3b37a",
   "metadata": {},
   "outputs": [
    {
     "name": "stdout",
     "output_type": "stream",
     "text": [
      "Requirement already satisfied: send2trash in c:\\users\\brend\\anaconda3\\lib\\site-packages (1.8.0)\n"
     ]
    }
   ],
   "source": [
    "!pip install send2trash"
   ]
  },
  {
   "cell_type": "code",
   "execution_count": 10,
   "id": "097c2646",
   "metadata": {},
   "outputs": [],
   "source": [
    "import send2trash"
   ]
  },
  {
   "cell_type": "code",
   "execution_count": 11,
   "id": "47af16a3",
   "metadata": {},
   "outputs": [
    {
     "data": {
      "text/plain": [
       "['.ipynb_checkpoints', 'demo', 'Python Data Handling.ipynb', 'sample.txt']"
      ]
     },
     "execution_count": 11,
     "metadata": {},
     "output_type": "execute_result"
    }
   ],
   "source": [
    "os.listdir()"
   ]
  },
  {
   "cell_type": "code",
   "execution_count": 13,
   "id": "2d147f7d",
   "metadata": {},
   "outputs": [],
   "source": [
    "send2trash.send2trash(\"sample.txt\")"
   ]
  },
  {
   "cell_type": "code",
   "execution_count": 14,
   "id": "8194a9fd",
   "metadata": {},
   "outputs": [
    {
     "data": {
      "text/plain": [
       "['.ipynb_checkpoints', 'demo', 'Python Data Handling.ipynb']"
      ]
     },
     "execution_count": 14,
     "metadata": {},
     "output_type": "execute_result"
    }
   ],
   "source": [
    "os.listdir()"
   ]
  },
  {
   "cell_type": "markdown",
   "id": "f52eeea1",
   "metadata": {},
   "source": [
    "## The zipfile library"
   ]
  },
  {
   "cell_type": "code",
   "execution_count": 15,
   "id": "a160a020",
   "metadata": {},
   "outputs": [
    {
     "data": {
      "text/plain": [
       "22"
      ]
     },
     "execution_count": 15,
     "metadata": {},
     "output_type": "execute_result"
    }
   ],
   "source": [
    "new_file = open(\"demo1.txt\",\"w+\")\n",
    "\n",
    "new_file.write(\"this is the first demo\")"
   ]
  },
  {
   "cell_type": "code",
   "execution_count": 16,
   "id": "8af06b16",
   "metadata": {},
   "outputs": [],
   "source": [
    "new_file.close()"
   ]
  },
  {
   "cell_type": "code",
   "execution_count": 17,
   "id": "811d3ba4",
   "metadata": {},
   "outputs": [],
   "source": [
    "new_file = open(\"demo2.txt\",\"w+\")"
   ]
  },
  {
   "cell_type": "code",
   "execution_count": 18,
   "id": "6c509935",
   "metadata": {},
   "outputs": [
    {
     "data": {
      "text/plain": [
       "23"
      ]
     },
     "execution_count": 18,
     "metadata": {},
     "output_type": "execute_result"
    }
   ],
   "source": [
    "new_file.write(\"this is the second demo\")"
   ]
  },
  {
   "cell_type": "code",
   "execution_count": 19,
   "id": "33d689f6",
   "metadata": {},
   "outputs": [],
   "source": [
    "new_file.close()"
   ]
  },
  {
   "cell_type": "code",
   "execution_count": 20,
   "id": "c72d5a71",
   "metadata": {},
   "outputs": [],
   "source": [
    "import zipfile"
   ]
  },
  {
   "cell_type": "code",
   "execution_count": 21,
   "id": "9f1ac98e",
   "metadata": {},
   "outputs": [],
   "source": [
    "new_comp = zipfile.ZipFile(\"new_comp.zip\", \"w\")"
   ]
  },
  {
   "cell_type": "code",
   "execution_count": 22,
   "id": "ac9010cb",
   "metadata": {},
   "outputs": [],
   "source": [
    "new_comp.write(\"demo1.txt\", compress_type = zipfile.ZIP_DEFLATED)"
   ]
  },
  {
   "cell_type": "code",
   "execution_count": 23,
   "id": "8f916fb5",
   "metadata": {},
   "outputs": [],
   "source": [
    "new_comp.write(\"demo2.txt\", compress_type = zipfile.ZIP_DEFLATED)"
   ]
  },
  {
   "cell_type": "code",
   "execution_count": 24,
   "id": "c1e027b0",
   "metadata": {},
   "outputs": [],
   "source": [
    "new_comp.close()"
   ]
  },
  {
   "cell_type": "code",
   "execution_count": 26,
   "id": "6062c7ed",
   "metadata": {},
   "outputs": [],
   "source": [
    "#extraction\n",
    "new_extract = zipfile.ZipFile(\"new_comp.zip\",\"r\")"
   ]
  },
  {
   "cell_type": "code",
   "execution_count": 28,
   "id": "f8fc8a44",
   "metadata": {},
   "outputs": [],
   "source": [
    "new_extract.extractall(\"This is your extracted content!\")"
   ]
  },
  {
   "cell_type": "code",
   "execution_count": null,
   "id": "1ca65303",
   "metadata": {},
   "outputs": [],
   "source": []
  }
 ],
 "metadata": {
  "kernelspec": {
   "display_name": "Python 3 (ipykernel)",
   "language": "python",
   "name": "python3"
  },
  "language_info": {
   "codemirror_mode": {
    "name": "ipython",
    "version": 3
   },
   "file_extension": ".py",
   "mimetype": "text/x-python",
   "name": "python",
   "nbconvert_exporter": "python",
   "pygments_lexer": "ipython3",
   "version": "3.9.13"
  }
 },
 "nbformat": 4,
 "nbformat_minor": 5
}
