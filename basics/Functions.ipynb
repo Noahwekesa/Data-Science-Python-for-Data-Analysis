{
 "cells": [
  {
   "cell_type": "markdown",
   "metadata": {},
   "source": [
    "## Functions"
   ]
  },
  {
   "cell_type": "code",
   "execution_count": 98,
   "metadata": {},
   "outputs": [
    {
     "name": "stdout",
     "output_type": "stream",
     "text": [
      "100\n"
     ]
    }
   ],
   "source": [
    "#program that will take a number and output its square\n",
    "def square (num):\n",
    "    return num ** 2\n",
    "\n",
    "print(square(10))\n"
   ]
  },
  {
   "cell_type": "code",
   "execution_count": 99,
   "metadata": {},
   "outputs": [
    {
     "name": "stdout",
     "output_type": "stream",
     "text": [
      "JohnSteven\n"
     ]
    }
   ],
   "source": [
    "def names(first, last):\n",
    "    return first + last\n",
    "\n",
    "print(names(\"John\", \"Steven\"))"
   ]
  },
  {
   "cell_type": "code",
   "execution_count": 100,
   "metadata": {},
   "outputs": [
    {
     "name": "stdout",
     "output_type": "stream",
     "text": [
      "johnsteven\n"
     ]
    }
   ],
   "source": [
    "print(names(last=\"steven\", first=\"john\"))"
   ]
  },
  {
   "cell_type": "code",
   "execution_count": 101,
   "metadata": {},
   "outputs": [
    {
     "name": "stdout",
     "output_type": "stream",
     "text": [
      "1\n",
      "2\n",
      "3\n",
      "4\n",
      "5\n"
     ]
    }
   ],
   "source": [
    "mylist = [1,2,3,4,5]\n",
    "\n",
    "for num in mylist:\n",
    "    print(num)"
   ]
  },
  {
   "cell_type": "code",
   "execution_count": 102,
   "metadata": {},
   "outputs": [
    {
     "name": "stdout",
     "output_type": "stream",
     "text": [
      "1\n",
      "2\n",
      "3\n",
      "4\n",
      "5\n"
     ]
    }
   ],
   "source": [
    "mylist = [1,2,3,4,5]\n",
    "\n",
    "def print_elements(list1):\n",
    "    for e in list1:\n",
    "        print(e)\n",
    "\n",
    "print_elements(mylist)"
   ]
  },
  {
   "cell_type": "code",
   "execution_count": 103,
   "metadata": {},
   "outputs": [
    {
     "ename": "SyntaxError",
     "evalue": "invalid syntax (1436873220.py, line 12)",
     "output_type": "error",
     "traceback": [
      "\u001b[1;36m  Cell \u001b[1;32mIn[103], line 12\u001b[1;36m\u001b[0m\n\u001b[1;33m    else:\u001b[0m\n\u001b[1;37m    ^\u001b[0m\n\u001b[1;31mSyntaxError\u001b[0m\u001b[1;31m:\u001b[0m invalid syntax\n"
     ]
    }
   ],
   "source": [
    "#Implement a function that prints each fibonacci number. Only print the fibonacci numbers up to the number given as input to the function. Important: Only create the function, do not call it. Name the function fibonacci  and print each fibonacci number in a new line. Fibonacci Numbers: Each number is the sum of the two preceding ones, starting from 0 and 1.\n",
    "\n",
    "\n",
    "def fibonacci(n):\n",
    "    a = 0\n",
    "    b = 1\n",
    "    if n == 0:\n",
    "        print(a)\n",
    "    elif n==1:\n",
    "        print(a)\n",
    "        print(b)\n",
    "        else:\n",
    "            print(a)\n",
    "            print(b)\n",
    "                for i in range(2,n):\n",
    "                    c = a + b\n",
    "                    a = b \n",
    "                    b = c \n",
    "                    if c <= n:\n",
    "                        print(c)\n",
    "                        else:\n",
    "                            break\n",
    "        "
   ]
  }
 ],
 "metadata": {
  "kernelspec": {
   "display_name": "Python 3",
   "language": "python",
   "name": "python3"
  },
  "language_info": {
   "codemirror_mode": {
    "name": "ipython",
    "version": 3
   },
   "file_extension": ".py",
   "mimetype": "text/x-python",
   "name": "python",
   "nbconvert_exporter": "python",
   "pygments_lexer": "ipython3",
   "version": "3.10.5"
  },
  "orig_nbformat": 4
 },
 "nbformat": 4,
 "nbformat_minor": 2
}
